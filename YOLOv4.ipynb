{
  "nbformat": 4,
  "nbformat_minor": 0,
  "metadata": {
    "colab": {
      "name": "YOLOv4ipynb",
      "provenance": [],
      "authorship_tag": "ABX9TyMWRTLgo8ltfwy6T2Qlyfs1",
      "include_colab_link": true
    },
    "kernelspec": {
      "name": "python3",
      "display_name": "Python 3"
    },
    "language_info": {
      "name": "python"
    }
  },
  "cells": [
    {
      "cell_type": "markdown",
      "metadata": {
        "id": "view-in-github",
        "colab_type": "text"
      },
      "source": [
        "<a href=\"https://colab.research.google.com/github/CagataySencan/TrafficSignRecognition/blob/main/YOLOv4.ipynb\" target=\"_parent\"><img src=\"https://colab.research.google.com/assets/colab-badge.svg\" alt=\"Open In Colab\"/></a>"
      ]
    },
    {
      "cell_type": "markdown",
      "source": [
        "# Verisetini Kaggle'dan Çekmek İçin Gerekli İşlemler"
      ],
      "metadata": {
        "id": "wdNx4ced8Zyc"
      }
    },
    {
      "cell_type": "code",
      "execution_count": null,
      "metadata": {
        "id": "1hhne0WF62Qr"
      },
      "outputs": [],
      "source": [
        "!pip install kaggle"
      ]
    },
    {
      "cell_type": "code",
      "source": [
        "!mkdir ~/.kaggle"
      ],
      "metadata": {
        "id": "l3LkSuRm8eoc"
      },
      "execution_count": null,
      "outputs": []
    },
    {
      "cell_type": "code",
      "source": [
        "!cp /content/kaggle.json ~/.kaggle/kaggle.json"
      ],
      "metadata": {
        "id": "oS69sSDt8fjI"
      },
      "execution_count": null,
      "outputs": []
    },
    {
      "cell_type": "code",
      "source": [
        "! chmod 600 ~/.kaggle/kaggle.json"
      ],
      "metadata": {
        "id": "F_ohw-Vg8gkV"
      },
      "execution_count": null,
      "outputs": []
    },
    {
      "cell_type": "code",
      "source": [
        "! kaggle datasets download hieunguyen21/german-traffic-sign-detection-benchmark-gtsdb"
      ],
      "metadata": {
        "id": "a0ZgeGNF8hxK"
      },
      "execution_count": null,
      "outputs": []
    },
    {
      "cell_type": "code",
      "source": [
        "! unzip german-traffic-sign-detection-benchmark-gtsdb.zip"
      ],
      "metadata": {
        "id": "TMXg3HeC8jPm"
      },
      "execution_count": null,
      "outputs": []
    },
    {
      "cell_type": "markdown",
      "source": [
        "# Veriyi YOLO Formatına Getirme"
      ],
      "metadata": {
        "id": "pP-wMpue8lD9"
      }
    },
    {
      "cell_type": "code",
      "source": [
        "import pandas as pd\n",
        "import os\n",
        "import cv2"
      ],
      "metadata": {
        "id": "BxW2eJRr8pjB"
      },
      "execution_count": null,
      "outputs": []
    },
    {
      "cell_type": "code",
      "source": [
        "classes = {0:'prohibitory',\n",
        "           1:'danger',\n",
        "           2:'mandatory',\n",
        "           3:'other'}\n",
        "           \n",
        "c = pd.DataFrame([classes])\n",
        "c.to_csv('/content/classes.names', header=False, index=False, sep='\\n')"
      ],
      "metadata": {
        "id": "1GUddBFE8q3p"
      },
      "execution_count": null,
      "outputs": []
    },
    {
      "cell_type": "code",
      "source": [
        "# Prohibitory category: circular Traffic Signs with white background and red border line\n",
        "p = [0, 1, 2, 3, 4, 5, 7, 8, 9, 10, 15, 16]\n",
        "\n",
        "# Danger category: triangular Traffic Signs with white background and red border line\n",
        "d = [11, 18, 19, 20, 21, 22, 23, 24, 25, 26, 27, 28, 29, 30, 31]\n",
        "\n",
        "# Mandatory category: circular Traffic Signs with blue background\n",
        "m = [33, 34, 35, 36, 37, 38, 39, 40]\n",
        "\n",
        "# Other category:\n",
        "o = [6, 12, 13, 14, 17, 32, 41, 42]"
      ],
      "metadata": {
        "id": "Tv3k6A8R8sb7"
      },
      "execution_count": null,
      "outputs": []
    },
    {
      "cell_type": "code",
      "source": [
        "# Her fotoğraf için annotation txt dosyalarının oluşturulması için ön hazırlık\n",
        "ann = pd.read_csv('/content/FullIJCNN2013/gt.txt',\n",
        "                  names=['ImageID',\n",
        "                         'XMin',\n",
        "                         'YMin',\n",
        "                         'XMax',\n",
        "                         'YMax',\n",
        "                         'ClassID'],\n",
        "                  sep=';')\n",
        "\n",
        "# Adding new empty columns to dataFrame to save numbers for YOLO format\n",
        "ann['CategoryID'] = ''\n",
        "ann['center x'] = ''\n",
        "ann['center y'] = ''\n",
        "ann['width'] = ''\n",
        "ann['height'] = ''\n",
        "\n",
        "# Getting category's ID according to the class's ID\n",
        "ann.loc[ann['ClassID'].isin(p), 'CategoryID'] = 0\n",
        "ann.loc[ann['ClassID'].isin(d), 'CategoryID'] = 1\n",
        "ann.loc[ann['ClassID'].isin(m), 'CategoryID'] = 2\n",
        "ann.loc[ann['ClassID'].isin(o), 'CategoryID'] = 3\n",
        "\n",
        "# Calculating bounding box's center in x and y for all rows\n",
        "# Saving results to appropriate columns\n",
        "ann['center x'] = (ann['XMax'] + ann['XMin']) / 2\n",
        "ann['center y'] = (ann['YMax'] + ann['YMin']) / 2\n",
        "\n",
        "# Calculating bounding box's width and height for all rows\n",
        "# Saving results to appropriate columns\n",
        "ann['width'] = ann['XMax'] - ann['XMin']\n",
        "ann['height'] = ann['YMax'] - ann['YMin']\n",
        "\n",
        "# Getting Pandas dataFrame that has only needed columns\n",
        "# By using 'loc' method we locate here all rows but only specified columns\n",
        "# By using copy() we create separate dataFrame not just a reference to the previous one and, in this way, initial dataFrame will not be changed\n",
        "r = ann.loc[:, ['ImageID',\n",
        "                'CategoryID',\n",
        "                'center x',\n",
        "                'center y',\n",
        "                'width',\n",
        "                'height']].copy()\n",
        "\n",
        "# Check point\n",
        "# Showing first 5 rows from the dataFrame\n",
        "print(r.head())"
      ],
      "metadata": {
        "id": "8S_9wa7881dj"
      },
      "execution_count": null,
      "outputs": []
    },
    {
      "cell_type": "code",
      "source": [
        "'''Normalizing YOLO numbers according to the real image width and height\n",
        "Saving annotations in txt files\n",
        "Converting images from ppm to jpg'''\n",
        "\n",
        "def annotation(fullPathtoDataset):\n",
        "  os.chdir(fullPathtoDataset)\n",
        "\n",
        "  for current_dir, dirs, files in os.walk('.'):\n",
        "     for f in files:\n",
        "        if f.endswith('.ppm'):\n",
        "          image_ppm = cv2.imread(f)\n",
        "          h, w = image_ppm.shape[:2]\n",
        "\n",
        "          # Slicing only name of the file without extension\n",
        "          image_name = f[:-4]\n",
        "\n",
        "          sub_r = r.loc[r['ImageID'] == f].copy()\n",
        "\n",
        "          # Normalizing calculated bounding boxes' coordinates according to the real image width and height\n",
        "          sub_r['center x'] = sub_r['center x'] / w\n",
        "          sub_r['center y'] = sub_r['center y'] / h\n",
        "          sub_r['width'] = sub_r['width'] / w\n",
        "          sub_r['height'] = sub_r['height'] / h\n",
        "\n",
        "          resulted_frame = sub_r.loc[:, ['CategoryID',\n",
        "                                         'center x',\n",
        "                                         'center y',\n",
        "                                         'width',\n",
        "                                         'height']].copy()\n",
        "\n",
        "          # Checking if there is no any annotations for current image\n",
        "          if resulted_frame.isnull().values.all():\n",
        "              continue\n",
        "\n",
        "          # Preparing path where to save txt file\n",
        "          path_to_save = fullPathtoDataset + '/' + image_name + '.txt'\n",
        "\n",
        "          # Saving resulted Pandas dataFrame into txt file\n",
        "          resulted_frame.to_csv(path_to_save, header=False, index=False, sep=' ')\n",
        "\n",
        "          # Preparing path where to save jpg image\n",
        "          path_to_save = fullPathtoDataset + '/' + image_name + '.jpg'\n",
        "\n",
        "          # Saving image in jpg format by OpenCV function that uses extension to choose format to save with\n",
        "          cv2.imwrite(path_to_save, image_ppm)"
      ],
      "metadata": {
        "id": "-C7irsJK83D4"
      },
      "execution_count": null,
      "outputs": []
    },
    {
      "cell_type": "code",
      "source": [
        "annotation('/content/FullIJCNN2013')"
      ],
      "metadata": {
        "id": "-pOWxHUw84lN"
      },
      "execution_count": null,
      "outputs": []
    },
    {
      "cell_type": "code",
      "source": [
        "#from pathlib import Path\n",
        "\n",
        "#rootdir = '/content/FullIJCNN2013'\n",
        "#for path in Path(rootdir).iterdir():\n",
        "#  if path.is_dir():\n",
        "#    path=str(path)\n",
        "#    annotation(path)"
      ],
      "metadata": {
        "id": "BtrsNRTw85h3"
      },
      "execution_count": null,
      "outputs": []
    },
    {
      "cell_type": "code",
      "source": [
        "full_path_to_images = '/content/FullIJCNN2013'\n",
        "\n",
        "os.chdir(full_path_to_images)\n",
        "\n",
        "# Defining list to write paths in\n",
        "p = []\n",
        "\n",
        "for current_dir, dirs, files in os.walk('.'):\n",
        "    # Going through all files\n",
        "    for f in files:\n",
        "        # Checking if filename ends with '.jpg'\n",
        "        if f.endswith('.jpg'):\n",
        "            path_to_save_into_txt_files = full_path_to_images + '/' + f\n",
        "            p.append(path_to_save_into_txt_files + '\\n')\n",
        "\n",
        "\n",
        "# Slicing first 15% of elements from the list to write into the test.txt file\n",
        "p_test = p[:int(len(p) * 0.15)]\n",
        "\n",
        "# Deleting from initial list first 15% of elements\n",
        "p = p[int(len(p) * 0.15):]\n",
        "\n",
        "with open('train.txt', 'w') as train_txt:\n",
        "    # Going through all elements of the list\n",
        "    for e in p:\n",
        "        train_txt.write(e)\n",
        "\n",
        "with open('test.txt', 'w') as test_txt:\n",
        "    # Going through all elements of the list\n",
        "    for e in p_test:\n",
        "        test_txt.write(e)"
      ],
      "metadata": {
        "id": "I0bY0GzI86qE"
      },
      "execution_count": null,
      "outputs": []
    },
    {
      "cell_type": "markdown",
      "source": [
        "# Darknet ile Eğitim ve Test\n"
      ],
      "metadata": {
        "id": "i-OW7_Mk88JG"
      }
    },
    {
      "cell_type": "code",
      "source": [
        "os.chdir('/content')\n",
        "! git clone https://github.com/AlexeyAB/darknet/"
      ],
      "metadata": {
        "id": "E0rDr7bl9ARk"
      },
      "execution_count": null,
      "outputs": []
    },
    {
      "cell_type": "code",
      "source": [
        "os.chdir('/content/darknet')\n",
        "#compiling w cuda\n",
        "! sed -i 's/GPU=0/GPU=1/g' Makefile\n",
        "\n",
        "! sed -i 's/CUDNN=0/CUDNN=1/g' Makefile\n",
        "\n",
        "#compiling w openCv\n",
        "import cv2\n",
        "! sed -i 's/OPENCV=0/OPENCV=1/g' Makefile"
      ],
      "metadata": {
        "id": "QuQnyEtT9CLc"
      },
      "execution_count": null,
      "outputs": []
    },
    {
      "cell_type": "code",
      "source": [
        "with open('/content/darknet/cfg/ts_data.data', 'w') as out:\n",
        "  out.write('classes = 4\\n')\n",
        "  out.write('train = /content/FullIJCNN2013/train.txt\\n')\n",
        "  out.write('valid = /content/FullIJCNN2013/test.txt\\n')\n",
        "  out.write('names = /content/classes.names\\n')\n",
        "  out.write('backup = backup')"
      ],
      "metadata": {
        "id": "WsYT9Hg89E2S"
      },
      "execution_count": null,
      "outputs": []
    },
    {
      "cell_type": "code",
      "source": [
        "os.chdir('/content/darknet')\n",
        "! make"
      ],
      "metadata": {
        "id": "tVVHwhhL9GY8"
      },
      "execution_count": null,
      "outputs": []
    },
    {
      "cell_type": "code",
      "source": [
        "!./darknet"
      ],
      "metadata": {
        "id": "tLMZrjgK9HUG"
      },
      "execution_count": null,
      "outputs": []
    },
    {
      "cell_type": "code",
      "source": [
        "!wget https://github.com/AlexeyAB/darknet/releases/download/darknet_yolo_v4_pre/yolov4-tiny.weights"
      ],
      "metadata": {
        "id": "k2B8PzxC9Iyb"
      },
      "execution_count": null,
      "outputs": []
    },
    {
      "cell_type": "code",
      "source": [
        "!./darknet detector train cfg/ts_data.data cfg/yolov4-tiny_train.cfg yolov4-tiny_train_6000.weights -thresh 0.25 -dont_show"
      ],
      "metadata": {
        "id": "9X1UCu119LD4"
      },
      "execution_count": null,
      "outputs": []
    },
    {
      "cell_type": "code",
      "source": [
        "!./darknet detector map cfg/ts_data.data cfg/yolov4-tiny_train.cfg backup/yolov4-tiny_train_8000.weights"
      ],
      "metadata": {
        "id": "5gkpNWUm9Mq6"
      },
      "execution_count": null,
      "outputs": []
    },
    {
      "cell_type": "code",
      "source": [
        "!./darknet detector test cfg/ts_data.data cfg/yolov4-tiny_test.cfg yolov4-tiny_train_8000.weights content/image1.jpg -thresh 0.3"
      ],
      "metadata": {
        "id": "isbG7aDV9N1U"
      },
      "execution_count": null,
      "outputs": []
    }
  ]
}