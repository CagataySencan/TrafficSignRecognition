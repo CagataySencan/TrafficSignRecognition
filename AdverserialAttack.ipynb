{
  "nbformat": 4,
  "nbformat_minor": 0,
  "metadata": {
    "colab": {
      "name": "AdverserialAttack.ipynb",
      "provenance": [],
      "authorship_tag": "ABX9TyMo16FfQYNjybBXCnPnACFH",
      "include_colab_link": true
    },
    "kernelspec": {
      "name": "python3",
      "display_name": "Python 3"
    },
    "language_info": {
      "name": "python"
    }
  },
  "cells": [
    {
      "cell_type": "markdown",
      "metadata": {
        "id": "view-in-github",
        "colab_type": "text"
      },
      "source": [
        "<a href=\"https://colab.research.google.com/github/CagataySencan/TrafficSignRecognition/blob/main/AdverserialAttack.ipynb\" target=\"_parent\"><img src=\"https://colab.research.google.com/assets/colab-badge.svg\" alt=\"Open In Colab\"/></a>"
      ]
    },
    {
      "cell_type": "code",
      "execution_count": null,
      "metadata": {
        "id": "u9AZRwCdeXYU"
      },
      "outputs": [],
      "source": [
        "import numpy as np\n",
        "import pandas as pd\n",
        "import os\n",
        "import cv2\n",
        "import matplotlib.pyplot as plt\n",
        "import pathlib\n",
        "from sklearn.model_selection import train_test_split\n",
        "from tensorflow.keras.utils import to_categorical\n",
        "from sklearn.metrics import accuracy_score\n",
        "import  PIL\n",
        "from PIL import  ImageEnhance , ImageOps , Image\n",
        "from matplotlib import pyplot\n",
        "from keras.models import Sequential\n",
        "from tensorflow.keras.preprocessing import image\n",
        "from tensorflow import keras\n",
        "from tensorflow.keras.preprocessing.image import ImageDataGenerator, img_to_array, array_to_img, load_img\n",
        "from tensorflow.keras.utils import to_categorical\n",
        "from tensorflow.keras.layers import Conv2D, MaxPool2D, Dense, Flatten, Dropout, MaxPooling2D\n",
        "from tensorflow.keras.models import Sequential\n",
        "from keras.callbacks import ModelCheckpoint, EarlyStopping\n",
        "from tensorflow.keras.optimizers import Adam\n",
        "import seaborn as sn"
      ]
    },
    {
      "cell_type": "code",
      "source": [
        "! pip install kaggle"
      ],
      "metadata": {
        "id": "3We-5PEUegqK"
      },
      "execution_count": null,
      "outputs": []
    },
    {
      "cell_type": "code",
      "source": [
        "! mkdir ~/.kaggle"
      ],
      "metadata": {
        "id": "0uyK2zp7ej2f",
        "colab": {
          "base_uri": "https://localhost:8080/"
        },
        "outputId": "bceb524a-68c3-4b93-aebe-a4160eb23923"
      },
      "execution_count": null,
      "outputs": [
        {
          "output_type": "stream",
          "name": "stdout",
          "text": [
            "mkdir: cannot create directory ‘/root/.kaggle’: File exists\n"
          ]
        }
      ]
    },
    {
      "cell_type": "code",
      "source": [
        "! cp kaggle.json ~/.kaggle/"
      ],
      "metadata": {
        "id": "2Jlv-6C_eu_d"
      },
      "execution_count": null,
      "outputs": []
    },
    {
      "cell_type": "code",
      "source": [
        "! chmod 600 ~/.kaggle/kaggle.json"
      ],
      "metadata": {
        "id": "77JjRIN4ew3w"
      },
      "execution_count": null,
      "outputs": []
    },
    {
      "cell_type": "code",
      "source": [
        "! kaggle datasets download meowmeowmeowmeowmeow/gtsrb-german-traffic-sign"
      ],
      "metadata": {
        "id": "fZ82RRRneyi5",
        "outputId": "59e90060-5e3d-4014-d99b-970725e2efe2",
        "colab": {
          "base_uri": "https://localhost:8080/"
        }
      },
      "execution_count": null,
      "outputs": [
        {
          "output_type": "stream",
          "name": "stdout",
          "text": [
            "Downloading gtsrb-german-traffic-sign.zip to /content\n",
            " 98% 600M/612M [00:04<00:00, 136MB/s]\n",
            "100% 612M/612M [00:04<00:00, 151MB/s]\n"
          ]
        }
      ]
    },
    {
      "cell_type": "code",
      "source": [
        "! unzip gtsrb-german-traffic-sign.zip"
      ],
      "metadata": {
        "id": "hQ3e537TfS0z"
      },
      "execution_count": null,
      "outputs": []
    },
    {
      "cell_type": "code",
      "source": [
        "trainDatas = pd.read_csv('Train.csv')\n",
        "testDatas = pd.read_csv('Test.csv')\n",
        "metaDatas = pd.read_csv('Meta.csv')"
      ],
      "metadata": {
        "id": "LCGwE1z1fbZ0"
      },
      "execution_count": null,
      "outputs": []
    },
    {
      "cell_type": "code",
      "source": [
        "# Eğitim verimizin validation ve eğitim kısmına bölünmesi\n",
        "X_Train, X_Validate = train_test_split(trainDatas,test_size=0.3,random_state=42)\n",
        "# Yeni DataFrame oluşturmak için indexleri resetliyoruz\n",
        "X_Train = X_Train.reset_index(drop = True)\n",
        "X_Validate = X_Validate.reset_index(drop = True)\n",
        "batchSize=30\n",
        "print(X_Train.shape,X_Validate.shape)\n",
        "# Validation ve eğitim için veriler bölündü"
      ],
      "metadata": {
        "id": "23SH91S-fel1"
      },
      "execution_count": null,
      "outputs": []
    }
  ]
}