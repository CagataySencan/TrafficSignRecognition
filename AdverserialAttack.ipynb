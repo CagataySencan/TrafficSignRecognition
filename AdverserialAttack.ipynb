{
  "nbformat": 4,
  "nbformat_minor": 0,
  "metadata": {
    "colab": {
      "name": "AdverserialAttack.ipynb",
      "provenance": [],
      "authorship_tag": "ABX9TyMkeI+3pjX2oWI/BU4XUv8/",
      "include_colab_link": true
    },
    "kernelspec": {
      "name": "python3",
      "display_name": "Python 3"
    },
    "language_info": {
      "name": "python"
    }
  },
  "cells": [
    {
      "cell_type": "markdown",
      "metadata": {
        "id": "view-in-github",
        "colab_type": "text"
      },
      "source": [
        "<a href=\"https://colab.research.google.com/github/CagataySencan/TrafficSignRecognition/blob/main/AdverserialAttack.ipynb\" target=\"_parent\"><img src=\"https://colab.research.google.com/assets/colab-badge.svg\" alt=\"Open In Colab\"/></a>"
      ]
    },
    {
      "cell_type": "code",
      "execution_count": 19,
      "metadata": {
        "id": "u9AZRwCdeXYU"
      },
      "outputs": [],
      "source": [
        "import numpy as np\n",
        "import pandas as pd\n",
        "import os\n",
        "import cv2\n",
        "import matplotlib.pyplot as plt\n",
        "import tensorflow as tf\n",
        "import pathlib\n",
        "from sklearn.model_selection import train_test_split\n",
        "from tensorflow.keras.utils import to_categorical\n",
        "from sklearn.metrics import accuracy_score\n",
        "import  PIL\n",
        "from PIL import  ImageEnhance , ImageOps , Image\n",
        "from matplotlib import pyplot\n",
        "from keras.models import Sequential\n",
        "from tensorflow.keras.preprocessing import image\n",
        "from tensorflow import keras\n",
        "from tensorflow.keras.preprocessing.image import ImageDataGenerator, img_to_array, array_to_img, load_img\n",
        "from tensorflow.keras.utils import to_categorical\n",
        "from tensorflow.keras.layers import Conv2D, MaxPool2D, Dense, Flatten, Dropout, MaxPooling2D, BatchNormalization, LeakyReLU, Reshape, Conv2DTranspose\n",
        "from tensorflow.keras.models import Sequential\n",
        "from keras.callbacks import ModelCheckpoint, EarlyStopping\n",
        "from tensorflow.keras.optimizers import Adam\n",
        "import seaborn as sn\n",
        "import matplotlib as mpl\n",
        "from skimage.util import random_noise\n",
        "import random"
      ]
    },
    {
      "cell_type": "code",
      "source": [
        "! pip install kaggle"
      ],
      "metadata": {
        "id": "3We-5PEUegqK"
      },
      "execution_count": null,
      "outputs": []
    },
    {
      "cell_type": "code",
      "source": [
        "! mkdir ~/.kaggle"
      ],
      "metadata": {
        "id": "0uyK2zp7ej2f"
      },
      "execution_count": 3,
      "outputs": []
    },
    {
      "cell_type": "code",
      "source": [
        "! cp kaggle.json ~/.kaggle/"
      ],
      "metadata": {
        "id": "2Jlv-6C_eu_d"
      },
      "execution_count": 4,
      "outputs": []
    },
    {
      "cell_type": "code",
      "source": [
        "! chmod 600 ~/.kaggle/kaggle.json"
      ],
      "metadata": {
        "id": "77JjRIN4ew3w"
      },
      "execution_count": 5,
      "outputs": []
    },
    {
      "cell_type": "code",
      "source": [
        "! kaggle datasets download meowmeowmeowmeowmeow/gtsrb-german-traffic-sign"
      ],
      "metadata": {
        "id": "fZ82RRRneyi5"
      },
      "execution_count": null,
      "outputs": []
    },
    {
      "cell_type": "code",
      "source": [
        "! unzip gtsrb-german-traffic-sign.zip"
      ],
      "metadata": {
        "id": "hQ3e537TfS0z"
      },
      "execution_count": null,
      "outputs": []
    },
    {
      "cell_type": "code",
      "source": [
        "trainDatas = pd.DataFrame(pd.read_csv('Train.csv'))\n",
        "testDatas = pd.DataFrame(pd.read_csv('Test.csv'))\n",
        "metaDatas = pd.read_csv('Meta.csv')\n",
        "allDatas = pd.concat((trainDatas,testDatas),sort = False).reset_index(drop = True)\n",
        "classCount = len(trainDatas['ClassId'].value_counts())\n",
        "classes = { 0:'Hız Limiti (20km/s)',\n",
        "            1:'Hız Limiti (30km/s)', \n",
        "            2:'Hız Limiti (50km/s)', \n",
        "            3:'Hız Limiti (60km/s)', \n",
        "            4:'Hız Limiti (70km/s)', \n",
        "            5:'Hız Limiti (80km/s)', \n",
        "            6:'Hız Limitinin bitişi (80km/s)', \n",
        "            7:'Hız Limiti (100km/s)', \n",
        "            8:'Hız Limiti (120km/s)', \n",
        "            9:'Geçiş yok', \n",
        "            10:'Ağırlığı 3.5 ton üstü olan araçlar geçemez', \n",
        "            11:'Kavşakta geçiş hakkı', \n",
        "            12:'Öncelikli yol', \n",
        "            13:'Yol ver', \n",
        "            14:'Dur', \n",
        "            15:'Araç giremez', \n",
        "            16:'3.5 Ton üzeri araçlar yasak', \n",
        "            17:'Giriş yok', \n",
        "            18:'Genel uyarı', \n",
        "            19:'Sola tehlikeli viraj', \n",
        "            20:'Sağa tehlikeli viraj', \n",
        "            21:'Sağa tehlikeli devamlı virajlar', \n",
        "            22:'Engebeli yol', \n",
        "            23:'Kaygan yol', \n",
        "            24:'Sağdan daralan yol', \n",
        "            25:'Yol çalışması', \n",
        "            26:'Trafik işaretleri', \n",
        "            27:'Yaya geçidi', \n",
        "            28:'Okul geçidi', \n",
        "            29:'Bisiklet yolu', \n",
        "            30:'Buzlanmaya dikkat',\n",
        "            31:'Vahşi hayvan çıkabilir', \n",
        "            32:'Hız sınırı sonu', \n",
        "            33:'Sadece sağa dönüş var', \n",
        "            34:'Sadece sola dönüş var', \n",
        "            35:'Dönüş yok', \n",
        "            36:'Sola dönüş yok', \n",
        "            37:'Sağa dönüş yok', \n",
        "            38:'Sağdan gidin', \n",
        "            39:'Soldan gidin', \n",
        "            40:'Dönüş önceliği', \n",
        "            41:'Geçiş olmayan yolun sonu', \n",
        "            42:'3.5 Ton üzeri araçlar girebilir' }\n",
        "mpl.rcParams['figure.figsize'] = (8, 8)\n",
        "mpl.rcParams['axes.grid'] = False"
      ],
      "metadata": {
        "id": "LCGwE1z1fbZ0"
      },
      "execution_count": 11,
      "outputs": []
    },
    {
      "cell_type": "code",
      "source": [
        "# Görüntüleri uygun formata getirme işlemi\n",
        "height = 30\n",
        "width = 30\n",
        "channel = 3\n",
        "\n",
        "trainData = []\n",
        "trainLabel = []\n",
        "for i in range(43) :\n",
        "    path = \"/content/Train/{0}/\".format(i)\n",
        "\n",
        "    Class=os.listdir(path)\n",
        "    for a in Class:\n",
        "        try:\n",
        "            image=cv2.imread(path+a)\n",
        "            image_from_array = Image.fromarray(image, 'RGB')\n",
        "            size_image = image_from_array.resize((height, width))\n",
        "            trainData.append(np.array(size_image))\n",
        "            trainLabel.append(i)\n",
        "        except AttributeError:\n",
        "            print(\" \")\n",
        "\n",
        "trainData = np.array(trainData)\n",
        "trainLabel = np.array(trainLabel)\n",
        "print(trainData.shape, trainLabel.shape)\n",
        "\n",
        "labels = testDatas[\"ClassId\"].values\n",
        "imgs = testDatas[\"Path\"].values\n",
        "\n",
        "data =[]\n",
        "j = len(testDatas['Path'].value_counts())\n",
        "for i in range(int((j*9)/10)):\n",
        "    n = random.randint(1,j)\n",
        "    try:\n",
        "        image = cv2.imread(testDatas[\"Path\"][n])\n",
        "        image_fromarray = Image.fromarray(image, 'RGB')\n",
        "        resize_image = image_fromarray.resize((height,width))\n",
        "        data.append(np.array(resize_image))\n",
        "    except:\n",
        "        print(\"Error in \")\n",
        "X_Test = np.array(data).astype('float32')\n",
        "X_Test = X_Test/255"
      ],
      "metadata": {
        "id": "g3SG--LLkDoG",
        "outputId": "22ac3a6d-6366-46fe-86af-c386a3a5b47c",
        "colab": {
          "base_uri": "https://localhost:8080/"
        }
      },
      "execution_count": 111,
      "outputs": [
        {
          "output_type": "stream",
          "name": "stdout",
          "text": [
            "(39209, 30, 30, 3) (39209,)\n",
            "Error in \n"
          ]
        }
      ]
    },
    {
      "cell_type": "code",
      "source": [
        "# Eğitim verimizin validation ve eğitim kısmına bölünmesi\n",
        "X_Train, X_Validate, Y_Train, Y_Validate = train_test_split(trainData,trainLabel,test_size=0.3,random_state=42)\n",
        "\n",
        "X_Train = X_Train/255 \n",
        "X_Validate = X_Validate/255 \n",
        "print(X_Train.shape,X_Validate.shape)\n",
        "# Validation ve eğitim için veriler bölündü"
      ],
      "metadata": {
        "id": "GfdIrEcxkKdG",
        "outputId": "7034a898-b686-47c4-94a8-7a66ac815739",
        "colab": {
          "base_uri": "https://localhost:8080/"
        }
      },
      "execution_count": 13,
      "outputs": [
        {
          "output_type": "stream",
          "name": "stdout",
          "text": [
            "(27446, 30, 30, 3) (11763, 30, 30, 3)\n"
          ]
        }
      ]
    },
    {
      "cell_type": "code",
      "source": [
        "# Test Verisinin Bir Kısmına Gürültü Ekleme İşlemi\n",
        "dataNoisy =[]\n",
        "for i in range(int(len(testDatas['Path'].value_counts())/10)+1):\n",
        "    n = random.randint(1,int(len(testDatas['Path'].value_counts())/10))\n",
        "    try:\n",
        "        image = cv2.imread(testDatas[\"Path\"][n])\n",
        "        image = random_noise(image, mode='s&p',amount=0.3)\n",
        "        image_fromarray = Image.fromarray(image, 'RGB')\n",
        "        resize_image = image_fromarray.resize((height,width))    \n",
        "        dataNoisy.append(np.array(resize_image))\n",
        "    except:\n",
        "        print(\"Error in \")\n",
        "\n",
        "X_TestNoisy = np.array(dataNoisy).astype('float32')\n",
        "X_TestNoisy = X_TestNoisy/255"
      ],
      "metadata": {
        "id": "8ct0VNBDmzqp"
      },
      "execution_count": 112,
      "outputs": []
    },
    {
      "cell_type": "code",
      "source": [
        "X_TestFinal = np.concatenate((X_Test,X_TestNoisy)).astype('float32')\n",
        "random.shuffle(X_TestFinal)"
      ],
      "metadata": {
        "id": "624oXT0p4wcV"
      },
      "execution_count": 115,
      "outputs": []
    },
    {
      "cell_type": "code",
      "source": [
        "Y_Train = to_categorical(Y_Train,num_classes = 43)\n",
        "Y_Validate = to_categorical(Y_Validate,num_classes = 43)\n",
        "\n",
        "print(Y_Train.shape)\n",
        "print(Y_Validate.shape)"
      ],
      "metadata": {
        "id": "wk9_AzPdkK2K"
      },
      "execution_count": null,
      "outputs": []
    },
    {
      "cell_type": "code",
      "source": [
        "from tensorflow.python.keras.layers.normalization.batch_normalization import BatchNormalization\n",
        "model = Sequential()\n",
        "model.add(Conv2D(filters=16, kernel_size=(3,3), activation='relu', input_shape=(height,width,channel)))\n",
        "model.add(Conv2D(filters=32, kernel_size=(3, 3), activation='relu'))\n",
        "model.add(MaxPool2D(pool_size=(2, 2)))\n",
        "model.add(BatchNormalization(axis = -1))\n",
        "\n",
        "\n",
        "model.add(Conv2D(filters=64, kernel_size=(3, 3), activation='relu'))\n",
        "model.add(Conv2D(filters=128, kernel_size=(3, 3), activation='relu'))\n",
        "model.add(MaxPool2D(pool_size=(2, 2)))\n",
        "model.add(BatchNormalization(axis = -1))\n",
        "\n",
        "\n",
        "\n",
        "model.add(Flatten())\n",
        "model.add(Dense(512, activation='relu'))\n",
        "model.add(Dropout(rate=0.5))\n",
        "model.add(Dense(43, activation='softmax'))\n",
        "\n",
        "model.compile(\n",
        "    loss='categorical_crossentropy', \n",
        "    optimizer='adam', \n",
        "    metrics=['accuracy']\n",
        ")"
      ],
      "metadata": {
        "id": "qBE3T4ppkMJJ"
      },
      "execution_count": 15,
      "outputs": []
    },
    {
      "cell_type": "code",
      "source": [
        "epochs = 30\n",
        "history = model.fit(X_Train, Y_Train, batch_size=32, epochs=epochs,\n",
        "validation_data=(X_Validate, Y_Validate))"
      ],
      "metadata": {
        "id": "1c70K1Ysk5M0"
      },
      "execution_count": null,
      "outputs": []
    },
    {
      "cell_type": "code",
      "source": [
        "predict= model.predict(X_Test) \n",
        "classPred= np.argmax(predict,axis=1)\n",
        "# Confusion Matrix\n",
        "from sklearn.metrics import confusion_matrix\n",
        "\n",
        "df_cm = pd.DataFrame(confusion_matrix(labels, classPred), index = classes,  columns = classes)\n",
        "plt.figure(figsize = (20,20))\n",
        "sn.heatmap(df_cm, annot=True)\n",
        "\n",
        "from sklearn.metrics import accuracy_score\n",
        "print(\"Accuracy score : %\",accuracy_score(labels, classPred)*100)\n",
        "\n"
      ],
      "metadata": {
        "id": "DcBe8vlmoQ0p"
      },
      "execution_count": null,
      "outputs": []
    },
    {
      "cell_type": "code",
      "source": [
        "plt.imshow(Image.open(\"/content/addsadsadsad.jpg\"))\n",
        "\n",
        "plt.show()"
      ],
      "metadata": {
        "id": "uswxwSYr-J8A"
      },
      "execution_count": null,
      "outputs": []
    },
    {
      "cell_type": "code",
      "source": [
        "imageMatrix = []\n",
        "image = cv2.imread(\"/content/addsadsadsad.jpg\")\n",
        "image = random_noise(image, mode='s&p',amount=0.3)\n",
        "imageFromArray = Image.fromarray(image, 'RGB')\n",
        "resizeImage = imageFromArray.resize((height,width))\n",
        "imageMatrix.append(np.array(resizeImage))\n",
        "\n",
        "croppedImage = np.array(imageMatrix)\n",
        "croppedImage = croppedImage/255\n",
        "croppedImage\n",
        "\n",
        "predict= model.predict(croppedImage) \n",
        "classPred= np.argmax(predict,axis=1)\n",
        "plt.imshow(Image.open(\"/content/addsadsadsad.jpg\"))\n",
        "plt.show()\n",
        "print(classes[classPred[0]])"
      ],
      "metadata": {
        "id": "zq6A3WPx-E8f",
        "outputId": "3763dc1d-29c2-42b4-aa09-c16e0b3567fe",
        "colab": {
          "base_uri": "https://localhost:8080/",
          "height": 501
        }
      },
      "execution_count": 122,
      "outputs": [
        {
          "output_type": "display_data",
          "data": {
            "image/png": "[encoded data removed]",
            "text/plain": [
              "<Figure size 576x576 with 1 Axes>"
            ]
          },
          "metadata": {
            "needs_background": "light"
          }
        },
        {
          "output_type": "stream",
          "name": "stdout",
          "text": [
            "Giriş yok\n"
          ]
        }
      ]
    }
  ]
}