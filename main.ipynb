{
  "nbformat": 4,
  "nbformat_minor": 0,
  "metadata": {
    "colab": {
      "name": "main.ipynb",
      "provenance": [],
      "authorship_tag": "ABX9TyMAkQcNhNK7r098+ehlR/6E",
      "include_colab_link": true
    },
    "kernelspec": {
      "name": "python3",
      "display_name": "Python 3"
    },
    "language_info": {
      "name": "python"
    }
  },
  "cells": [
    {
      "cell_type": "markdown",
      "metadata": {
        "id": "view-in-github",
        "colab_type": "text"
      },
      "source": [
        "<a href=\"https://colab.research.google.com/github/CagataySencan/TrafficSignRecognition/blob/main/main.ipynb\" target=\"_parent\"><img src=\"https://colab.research.google.com/assets/colab-badge.svg\" alt=\"Open In Colab\"/></a>"
      ]
    },
    {
      "cell_type": "code",
      "metadata": {
        "id": "McToxSLE4UiI"
      },
      "source": [
        "import numpy as np\n",
        "import pandas as pd\n",
        "import os\n",
        "import cv2\n",
        "import matplotlib.pyplot as plt\n",
        "import pathlib\n",
        "from sklearn.model_selection import train_test_split\n",
        "from tensorflow.keras.utils import to_categorical\n",
        "from sklearn.metrics import accuracy_score\n",
        "import  PIL\n",
        "from PIL import  ImageEnhance , ImageOps , Image\n",
        "from matplotlib import pyplot\n",
        "from keras.models import Sequential\n",
        "from tensorflow.keras.preprocessing import image\n",
        "from tensorflow import keras\n",
        "from tensorflow.keras.preprocessing.image import ImageDataGenerator, img_to_array, array_to_img, load_img\n",
        "from tensorflow.keras.utils import to_categorical\n",
        "from tensorflow.keras.layers import Conv2D, MaxPool2D, Dense, Flatten, Dropout, MaxPooling2D\n",
        "from tensorflow.keras.models import Sequential\n",
        "from keras.callbacks import ModelCheckpoint, EarlyStopping\n",
        "from tensorflow.keras.optimizers import Adam\n"
      ],
      "execution_count": 52,
      "outputs": []
    },
    {
      "cell_type": "code",
      "metadata": {
        "id": "98NuAK23uXoF"
      },
      "source": [
        "# Verisetini Kaggle'dan çekmek için gerekli kurulumlar\n",
        "\n",
        "! pip install kaggle"
      ],
      "execution_count": null,
      "outputs": []
    },
    {
      "cell_type": "code",
      "metadata": {
        "id": "yfDqNcJruk80"
      },
      "source": [
        "! mkdir ~/.kaggle"
      ],
      "execution_count": null,
      "outputs": []
    },
    {
      "cell_type": "code",
      "metadata": {
        "id": "tbJzn4dzulUr"
      },
      "source": [
        "! cp kaggle.json ~/.kaggle/"
      ],
      "execution_count": null,
      "outputs": []
    },
    {
      "cell_type": "code",
      "metadata": {
        "id": "2r2-IHcLulaR"
      },
      "source": [
        "! chmod 600 ~/.kaggle/kaggle.json"
      ],
      "execution_count": null,
      "outputs": []
    },
    {
      "cell_type": "code",
      "metadata": {
        "id": "SIjrlkSWuydw"
      },
      "source": [
        "# Verisetini Google Colab'e ekleme işlemi\n",
        "\n",
        "! kaggle datasets download meowmeowmeowmeowmeow/gtsrb-german-traffic-sign"
      ],
      "execution_count": null,
      "outputs": []
    },
    {
      "cell_type": "code",
      "metadata": {
        "id": "rfsiZkacu5we"
      },
      "source": [
        "! unzip gtsrb-german-traffic-sign.zip"
      ],
      "execution_count": null,
      "outputs": []
    },
    {
      "cell_type": "code",
      "metadata": {
        "id": "Ghm2KrSXynfR"
      },
      "source": [
        "# Veri Önişleme aşamaları\n",
        "\n",
        "trainDatas = pd.read_csv('Train.csv')\n",
        "testDatas = pd.read_csv('Test.csv')\n",
        "metaDatas = pd.read_csv('Meta.csv')\n",
        "# Class sayısı\n",
        "classCount = len(trainDatas['ClassId'].value_counts())\n"
      ],
      "execution_count": null,
      "outputs": []
    },
    {
      "cell_type": "code",
      "metadata": {
        "id": "FBM8LDN32UhL"
      },
      "source": [
        "# Eksik veri kontrolü\n",
        "print(\"-Eğitim verisi-\\n\",trainDatas.isnull().sum(),\"\\n-------------\\n\",\"-Test Verisi-\\n\",testDatas.isnull().sum())\n",
        "# Eksik veri bulunamadı\n",
        "\n",
        "# Uyumsuz veri kontrolü, .png ile bitmeyen bir görüntüye sahip olan satır verisetinden çıkarılacak\n",
        "for i in trainDatas['Path'] : \n",
        "  if i.endswith('.png') == 0 :\n",
        "    trainDatas.drop(i.index)\n",
        "\n",
        "for i in testDatas['Path'] :\n",
        "  if i.endswith('.png') == 0:\n",
        "    testDatas.drop(i.index)\n",
        "    \n"
      ],
      "execution_count": null,
      "outputs": []
    }
  ]
}