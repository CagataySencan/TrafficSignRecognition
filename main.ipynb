{
  "nbformat": 4,
  "nbformat_minor": 0,
  "metadata": {
    "colab": {
      "name": "main.ipynb",
      "provenance": [],
      "authorship_tag": "ABX9TyOhS8clyxADyNJi9rI7fF/b",
      "include_colab_link": true
    },
    "kernelspec": {
      "name": "python3",
      "display_name": "Python 3"
    },
    "language_info": {
      "name": "python"
    },
    "accelerator": "GPU"
  },
  "cells": [
    {
      "cell_type": "markdown",
      "metadata": {
        "id": "view-in-github",
        "colab_type": "text"
      },
      "source": [
        "<a href=\"https://colab.research.google.com/github/CagataySencan/TrafficSignRecognition/blob/main/main.ipynb\" target=\"_parent\"><img src=\"https://colab.research.google.com/assets/colab-badge.svg\" alt=\"Open In Colab\"/></a>"
      ]
    },
    {
      "cell_type": "code",
      "metadata": {
        "id": "McToxSLE4UiI"
      },
      "source": [
        "import numpy as np\n",
        "import pandas as pd\n",
        "import os\n",
        "import cv2\n",
        "import matplotlib.pyplot as plt\n",
        "import pathlib\n",
        "from sklearn.model_selection import train_test_split\n",
        "from tensorflow.keras.utils import to_categorical\n",
        "from sklearn.metrics import accuracy_score\n",
        "import  PIL\n",
        "from PIL import  ImageEnhance , ImageOps , Image\n",
        "from matplotlib import pyplot\n",
        "from keras.models import Sequential\n",
        "from tensorflow.keras.preprocessing import image\n",
        "from tensorflow import keras\n",
        "from tensorflow.keras.preprocessing.image import ImageDataGenerator, img_to_array, array_to_img, load_img\n",
        "from tensorflow.keras.utils import to_categorical\n",
        "from tensorflow.keras.layers import Conv2D, MaxPool2D, Dense, Flatten, Dropout, MaxPooling2D\n",
        "from tensorflow.keras.models import Sequential\n",
        "from keras.callbacks import ModelCheckpoint, EarlyStopping\n",
        "from tensorflow.keras.optimizers import Adam\n"
      ],
      "execution_count": null,
      "outputs": []
    },
    {
      "cell_type": "code",
      "metadata": {
        "id": "98NuAK23uXoF"
      },
      "source": [
        "# Verisetini Kaggle'dan çekmek için gerekli kurulumlar\n",
        "\n",
        "! pip install kaggle"
      ],
      "execution_count": null,
      "outputs": []
    },
    {
      "cell_type": "code",
      "metadata": {
        "id": "yfDqNcJruk80"
      },
      "source": [
        "! mkdir ~/.kaggle"
      ],
      "execution_count": null,
      "outputs": []
    },
    {
      "cell_type": "code",
      "metadata": {
        "id": "tbJzn4dzulUr"
      },
      "source": [
        "! cp kaggle.json ~/.kaggle/"
      ],
      "execution_count": null,
      "outputs": []
    },
    {
      "cell_type": "code",
      "metadata": {
        "id": "2r2-IHcLulaR"
      },
      "source": [
        "! chmod 600 ~/.kaggle/kaggle.json"
      ],
      "execution_count": null,
      "outputs": []
    },
    {
      "cell_type": "code",
      "metadata": {
        "id": "SIjrlkSWuydw"
      },
      "source": [
        "# Verisetini Google Colab'e ekleme işlemi\n",
        "\n",
        "! kaggle datasets download meowmeowmeowmeowmeow/gtsrb-german-traffic-sign"
      ],
      "execution_count": null,
      "outputs": []
    },
    {
      "cell_type": "code",
      "metadata": {
        "id": "rfsiZkacu5we"
      },
      "source": [
        "! unzip gtsrb-german-traffic-sign.zip"
      ],
      "execution_count": null,
      "outputs": []
    },
    {
      "cell_type": "code",
      "metadata": {
        "id": "Ghm2KrSXynfR"
      },
      "source": [
        "# Veri Önişleme aşamaları\n",
        "\n",
        "trainDatas = pd.read_csv('Train.csv')\n",
        "testDatas = pd.read_csv('Test.csv')\n",
        "metaDatas = pd.read_csv('Meta.csv')\n",
        "# Class sayısı\n",
        "classCount = len(trainDatas['ClassId'].value_counts())\n",
        "# Classların başlıklarının tanımlanması \n",
        "classes = { 0:'Hız Limiti (20km/s)',\n",
        "            1:'Hız Limiti (30km/s)', \n",
        "            2:'Hız Limiti (50km/s)', \n",
        "            3:'Hız Limiti (60km/s)', \n",
        "            4:'Hız Limiti (70km/s)', \n",
        "            5:'Hız Limiti (80km/s)', \n",
        "            6:'Hız Limitinin bitişi (80km/s)', \n",
        "            7:'Hız Limiti (100km/s)', \n",
        "            8:'Hız Limiti (120km/s)', \n",
        "            9:'Geçiş yok', \n",
        "            10:'Ağırlığı 3.5 ton üstü olan araçlar geçemez', \n",
        "            11:'Kavşakta geçiş hakkı', \n",
        "            12:'Öncelikli yol', \n",
        "            13:'Yol ver', \n",
        "            14:'Dur', \n",
        "            15:'Araç giremez', \n",
        "            16:'3.5 Ton üzeri araçlar yasak', \n",
        "            17:'Giriş yok', \n",
        "            18:'Genel uyarı', \n",
        "            19:'Sola tehlikeli viraj', \n",
        "            20:'Sağa tehlikeli viraj', \n",
        "            21:'Sağa tehlikeli devamlı virajlar', \n",
        "            22:'Engebeli yol', \n",
        "            23:'Kaygan yol', \n",
        "            24:'Sağdan daralan yol', \n",
        "            25:'Yol çalışması', \n",
        "            26:'Trafik işaretleri', \n",
        "            27:'Yaya geçidi', \n",
        "            28:'Okul geçidi', \n",
        "            29:'Bisiklet yolu', \n",
        "            30:'Buzlanmaya dikkat',\n",
        "            31:'Vahşi hayvan çıkabilir', \n",
        "            32:'Hız sınırı sonu', \n",
        "            33:'Sadece sağa dönüş var', \n",
        "            34:'Sadece sola dönüş var', \n",
        "            35:'Dönüş yok', \n",
        "            36:'Sola dönüş yok', \n",
        "            37:'Sağa dönüş yok', \n",
        "            38:'Sağdan gidin', \n",
        "            39:'Soldan gidin', \n",
        "            40:'Dönüş önceliği', \n",
        "            41:'Geçiş olmayan yolun sonu', \n",
        "            42:'3.5 Ton üzeri araçlar girebilir' }"
      ],
      "execution_count": null,
      "outputs": []
    },
    {
      "cell_type": "code",
      "metadata": {
        "id": "FBM8LDN32UhL"
      },
      "source": [
        "# Eksik veri kontrolü\n",
        "print(\"-Eğitim verisi-\\n\",trainDatas.isnull().sum(),\"\\n-------------\\n\",\"-Test Verisi-\\n\",testDatas.isnull().sum())\n",
        "# Eksik veri bulunamadı\n",
        "\n",
        "# Uyumsuz veri kontrolü, .png ile bitmeyen bir görüntüye sahip olan satır verisetinden çıkarılacak\n",
        "for i in trainDatas['Path'] : \n",
        "  if i.endswith('.png') == False :\n",
        "    trainDatas.drop(i.index)\n",
        "    print(i,\". satır siliniyor\")\n",
        "\n",
        "for i in testDatas['Path'] :\n",
        "  if i.endswith('.png') == False:\n",
        "    testDatas.drop(i.index)\n",
        "    print(i,\". satır siliniyor\")"
      ],
      "execution_count": null,
      "outputs": []
    },
    {
      "cell_type": "code",
      "metadata": {
        "id": "_aJlBGANBBmJ"
      },
      "source": [
        "# Eğitim verimizin validation ve eğitim kısmına bölünmesi\n",
        "X_Train, X_Validate = train_test_split(trainDatas,test_size=0.3,random_state=42)\n",
        "# Yeni DataFrame oluşturmak için indexleri resetliyoruz\n",
        "X_Train = X_Train.reset_index(drop = True)\n",
        "X_Validate = X_Validate.reset_index(drop = True)\n",
        "batchSize=30\n",
        "print(X_Train.shape,X_Validate.shape)\n",
        "# Validation ve eğitim için veriler bölündü"
      ],
      "execution_count": null,
      "outputs": []
    },
    {
      "cell_type": "code",
      "metadata": {
        "id": "dwzeN8MvCZn0"
      },
      "source": [
        "# Augmentation işlemi\n",
        "trainGen = ImageDataGenerator(rotation_range=15,width_shift_range=0.2,height_shift_range=0.2,rescale=1./255,horizontal_flip=True)\n",
        "trainGenerator = trainGen.flow_from_dataframe(X_Train,x_col = 'Path',y_col = 'ClassId',target_size=(120,120),batch_size=batchSize,class_mode='raw')\n",
        "\n",
        "validateGen = ImageDataGenerator(rescale=1./255)\n",
        "validateGenerator = validateGen.flow_from_dataframe(X_Validate,x_col='Path',y_col='ClassId',target_size=(120,120),batch_size=batchSize, class_mode='raw')"
      ],
      "execution_count": null,
      "outputs": []
    }
  ]
}